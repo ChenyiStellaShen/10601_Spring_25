{
  "nbformat": 4,
  "nbformat_minor": 0,
  "metadata": {
    "colab": {
      "provenance": [],
      "include_colab_link": true
    },
    "kernelspec": {
      "name": "python3",
      "display_name": "Python 3"
    },
    "language_info": {
      "name": "python"
    }
  },
  "cells": [
    {
      "cell_type": "markdown",
      "metadata": {
        "id": "view-in-github",
        "colab_type": "text"
      },
      "source": [
        "<a href=\"https://colab.research.google.com/github/ChenyiStellaShen/10601_Spring_25/blob/main/S25_10601_Recitation_2.ipynb\" target=\"_parent\"><img src=\"https://colab.research.google.com/assets/colab-badge.svg\" alt=\"Open In Colab\"/></a>"
      ]
    },
    {
      "cell_type": "markdown",
      "source": [
        "# **S25 10-301/601 Recitation 2**"
      ],
      "metadata": {
        "id": "7VxLGWXgTRZV"
      }
    },
    {
      "cell_type": "markdown",
      "source": [
        "# 1. Programming: Tree Structures and Algorithms"
      ],
      "metadata": {
        "id": "XnXdzhnZTVzJ"
      }
    },
    {
      "cell_type": "code",
      "execution_count": null,
      "metadata": {
        "id": "c_L4SqB6B1hE"
      },
      "outputs": [],
      "source": [
        "# This class represents an individual node\n",
        "class Node:\n",
        "    def __init__(self, key):\n",
        "        self.left = None\n",
        "        self.right = None\n",
        "        self.val = key\n",
        "\n",
        "def traversal1(root):\n",
        "    if root is not None:\n",
        "        # First print the data of node\n",
        "        print(root.val, end='\\t')\n",
        "        # Then recurse on left child\n",
        "        traversal1(root.left)\n",
        "        # Finally recurse on right child\n",
        "        traversal1(root.right)\n",
        "\n",
        "\n",
        "def traversal2(root):\n",
        "    if root is not None:\n",
        "        # First recurse on left child\n",
        "        traversal2(root.left)\n",
        "        # then print the data of node\n",
        "        print(root.val, end='\\t')\n",
        "        # now recurse on right child\n",
        "        traversal2(root.right)\n",
        "\n",
        "\n",
        "def traversal3(root):\n",
        "    if root is not None:\n",
        "        # First recurse on left child\n",
        "        traversal3(root.left)\n",
        "        # then recurse on right child\n",
        "        traversal3(root.right)\n",
        "        # now print the data of node\n",
        "        print(root.val, end='\\t')\n",
        "\n",
        "\n",
        "def build_a_tree():\n",
        "    root = Node(1)\n",
        "    root.left = Node(2)\n",
        "    root.right = Node(3)\n",
        "    root.left.left = Node(4)\n",
        "    root.left.right = Node(5)\n",
        "    return root"
      ]
    },
    {
      "cell_type": "code",
      "source": [
        "root = build_a_tree()"
      ],
      "metadata": {
        "id": "IgZYFJt1TEpW"
      },
      "execution_count": null,
      "outputs": []
    },
    {
      "cell_type": "code",
      "source": [
        "print('traversal1 of the binary tree is: ')\n",
        "traversal1(root)"
      ],
      "metadata": {
        "id": "m8hf1TvLTGkF",
        "outputId": "c52efb78-42eb-4691-ae8e-3227b9a0223d",
        "colab": {
          "base_uri": "https://localhost:8080/"
        },
        "collapsed": true
      },
      "execution_count": null,
      "outputs": [
        {
          "output_type": "stream",
          "name": "stdout",
          "text": [
            "traversal1 of the binary tree is: \n",
            "1\t2\t4\t5\t3\t"
          ]
        }
      ]
    },
    {
      "cell_type": "code",
      "source": [
        "print('traversal2 of the binary tree is: ')\n",
        "traversal2(root)"
      ],
      "metadata": {
        "id": "wGsdA823THxJ",
        "outputId": "08ef7d33-b40d-47ee-ee6c-5c910f947ec6",
        "colab": {
          "base_uri": "https://localhost:8080/"
        },
        "collapsed": true
      },
      "execution_count": null,
      "outputs": [
        {
          "output_type": "stream",
          "name": "stdout",
          "text": [
            "traversal2 of the binary tree is: \n",
            "4\t2\t5\t1\t3\t"
          ]
        }
      ]
    },
    {
      "cell_type": "code",
      "source": [
        "print('traversal3 of the binary tree is: ')\n",
        "traversal3(root)"
      ],
      "metadata": {
        "id": "RXk_NDpPTJqp",
        "outputId": "1f0f73a6-86e2-45ba-efb5-2c78f0fdfac1",
        "colab": {
          "base_uri": "https://localhost:8080/"
        },
        "collapsed": true
      },
      "execution_count": null,
      "outputs": [
        {
          "output_type": "stream",
          "name": "stdout",
          "text": [
            "traversal3 of the binary tree is: \n",
            "4\t5\t2\t3\t1\t"
          ]
        }
      ]
    },
    {
      "cell_type": "markdown",
      "source": [
        "# 2. Printing with Trees\n",
        "We can slightly modify the tree traversal function(s) to accodomate a depth parameter as we traverse in our DFS."
      ],
      "metadata": {
        "id": "jXfuVdpBb9DG"
      }
    },
    {
      "cell_type": "code",
      "source": [
        "def traversal2WithDepth(root, depth):\n",
        "    if root is not None:\n",
        "        # First recurse on left child\n",
        "        traversal2(root.left, depth+1)\n",
        "        # then print the data of node\n",
        "        print(f'({root.val}, {depth})')\n",
        "        # now recurse on right child\n",
        "        traversal2(root.right, depth+1)"
      ],
      "metadata": {
        "id": "t3wkklO-cBka"
      },
      "execution_count": null,
      "outputs": []
    },
    {
      "cell_type": "code",
      "source": [
        "print('traversal2WithDepth of the binary tree is: ')\n",
        "traversal2WithDepth(root, 0)  # Tree starts at depth 0"
      ],
      "metadata": {
        "id": "SMVH-dLpgDmS",
        "outputId": "2099c990-777e-4307-ba5f-bd581c8dcd38",
        "colab": {
          "base_uri": "https://localhost:8080/"
        },
        "collapsed": true
      },
      "execution_count": null,
      "outputs": [
        {
          "output_type": "stream",
          "name": "stdout",
          "text": [
            "traversal2WithDepth of the binary tree is: \n",
            "(4, 2)\n",
            "(2, 1)\n",
            "(5, 2)\n",
            "(1, 0)\n",
            "(3, 1)\n"
          ]
        }
      ]
    },
    {
      "cell_type": "markdown",
      "source": [
        "# 3. Debugging"
      ],
      "metadata": {
        "id": "5l-q1B8KTfdw"
      }
    },
    {
      "cell_type": "code",
      "source": [
        "# Buggy code\n",
        "\n",
        "# Reverse the rows of a 2D array\n",
        "def reverse_rows(original):\n",
        "    rows = len(original)\n",
        "    cols = len(original[0])\n",
        "\n",
        "    new = [[0] * cols] * rows\n",
        "\n",
        "    for i in range(rows):\n",
        "        for j in range(cols):\n",
        "            new_index = rows - i\n",
        "            new[new_index][j] = original[i][j]\n",
        "\n",
        "    return new\n",
        "\n",
        "\n",
        "if __name__ == '__main__':\n",
        "    a = [[1, 2],\n",
        "         [3, 4],\n",
        "         [5, 6]]\n",
        "    print(reverse_rows(a))"
      ],
      "metadata": {
        "id": "t8ak9qFLTkT8",
        "outputId": "e9073d39-81e9-4e9d-d14b-951c57be7a01",
        "colab": {
          "base_uri": "https://localhost:8080/",
          "height": 292
        }
      },
      "execution_count": null,
      "outputs": [
        {
          "output_type": "error",
          "ename": "IndexError",
          "evalue": "list index out of range",
          "traceback": [
            "\u001b[0;31m---------------------------------------------------------------------------\u001b[0m",
            "\u001b[0;31mIndexError\u001b[0m                                Traceback (most recent call last)",
            "\u001b[0;32m<ipython-input-2-92f600f781af>\u001b[0m in \u001b[0;36m<cell line: 0>\u001b[0;34m()\u001b[0m\n\u001b[1;32m     20\u001b[0m          \u001b[0;34m[\u001b[0m\u001b[0;36m3\u001b[0m\u001b[0;34m,\u001b[0m \u001b[0;36m4\u001b[0m\u001b[0;34m]\u001b[0m\u001b[0;34m,\u001b[0m\u001b[0;34m\u001b[0m\u001b[0;34m\u001b[0m\u001b[0m\n\u001b[1;32m     21\u001b[0m          [5, 6]]\n\u001b[0;32m---> 22\u001b[0;31m     \u001b[0mprint\u001b[0m\u001b[0;34m(\u001b[0m\u001b[0mreverse_rows\u001b[0m\u001b[0;34m(\u001b[0m\u001b[0ma\u001b[0m\u001b[0;34m)\u001b[0m\u001b[0;34m)\u001b[0m\u001b[0;34m\u001b[0m\u001b[0;34m\u001b[0m\u001b[0m\n\u001b[0m",
            "\u001b[0;32m<ipython-input-2-92f600f781af>\u001b[0m in \u001b[0;36mreverse_rows\u001b[0;34m(original)\u001b[0m\n\u001b[1;32m     11\u001b[0m         \u001b[0;32mfor\u001b[0m \u001b[0mj\u001b[0m \u001b[0;32min\u001b[0m \u001b[0mrange\u001b[0m\u001b[0;34m(\u001b[0m\u001b[0mcols\u001b[0m\u001b[0;34m)\u001b[0m\u001b[0;34m:\u001b[0m\u001b[0;34m\u001b[0m\u001b[0;34m\u001b[0m\u001b[0m\n\u001b[1;32m     12\u001b[0m             \u001b[0mnew_index\u001b[0m \u001b[0;34m=\u001b[0m \u001b[0mrows\u001b[0m \u001b[0;34m-\u001b[0m \u001b[0mi\u001b[0m\u001b[0;34m\u001b[0m\u001b[0;34m\u001b[0m\u001b[0m\n\u001b[0;32m---> 13\u001b[0;31m             \u001b[0mnew\u001b[0m\u001b[0;34m[\u001b[0m\u001b[0mnew_index\u001b[0m\u001b[0;34m]\u001b[0m\u001b[0;34m[\u001b[0m\u001b[0mj\u001b[0m\u001b[0;34m]\u001b[0m \u001b[0;34m=\u001b[0m \u001b[0moriginal\u001b[0m\u001b[0;34m[\u001b[0m\u001b[0mi\u001b[0m\u001b[0;34m]\u001b[0m\u001b[0;34m[\u001b[0m\u001b[0mj\u001b[0m\u001b[0;34m]\u001b[0m\u001b[0;34m\u001b[0m\u001b[0;34m\u001b[0m\u001b[0m\n\u001b[0m\u001b[1;32m     14\u001b[0m \u001b[0;34m\u001b[0m\u001b[0m\n\u001b[1;32m     15\u001b[0m     \u001b[0;32mreturn\u001b[0m \u001b[0mnew\u001b[0m\u001b[0;34m\u001b[0m\u001b[0;34m\u001b[0m\u001b[0m\n",
            "\u001b[0;31mIndexError\u001b[0m: list index out of range"
          ]
        }
      ]
    },
    {
      "cell_type": "code",
      "source": [
        "# Fixed code\n",
        "\n",
        "# Reverse the rows of a 2D array\n",
        "def reverse_rows(original):\n",
        "    rows = len(original)\n",
        "    cols = len(original[0])\n",
        "\n",
        "    new_wrong = [[0] * cols] * rows       # Issue 1! Aliaising lists\n",
        "    new = [[0 for _ in range(cols)] for _ in range(rows)]\n",
        "\n",
        "    for i in range(rows):\n",
        "        for j in range(cols):\n",
        "            new_index_wrong = rows - i    # Issue 2! Index out-of-bounds\n",
        "            new_index = rows - i - 1\n",
        "            new[new_index][j] = original[i][j]\n",
        "\n",
        "    return new\n",
        "\n",
        "\n",
        "if __name__ == '__main__':\n",
        "    a = [[1, 2],\n",
        "         [3, 4],\n",
        "         [5, 6]]\n",
        "    print(reverse_rows(a))"
      ],
      "metadata": {
        "colab": {
          "base_uri": "https://localhost:8080/"
        },
        "id": "8VmQR1_ohhOU",
        "outputId": "19603dd1-dad1-44d5-e6dd-a001cda500eb",
        "collapsed": true
      },
      "execution_count": null,
      "outputs": [
        {
          "output_type": "stream",
          "name": "stdout",
          "text": [
            "[[5, 6], [3, 4], [1, 2]]\n"
          ]
        }
      ]
    },
    {
      "cell_type": "markdown",
      "source": [
        "\n",
        "\n",
        "---\n",
        "\n"
      ],
      "metadata": {
        "id": "WA-3BkE6Tp-v"
      }
    },
    {
      "cell_type": "code",
      "source": [
        "# Buggy code\n",
        "\n",
        "import numpy as np\n",
        "\n",
        "# biggest_col takes a binary 2D array and returns the index of the\n",
        "# column with the most non-zero values. In case of a tie, return\n",
        "# the smallest index.\n",
        "def biggest_col(mat):\n",
        "    num_col = len(mat[0])\n",
        "    max_count = -1\n",
        "    max_index = -1\n",
        "\n",
        "    # iterate over the columns of the matrix\n",
        "    for col in range(num_col):\n",
        "        # counts the number of nonzero values\n",
        "        print(mat[:, col])\n",
        "        count = np.count_nonzero(mat[:, col])\n",
        "        # change max if needed\n",
        "        if count >= max_count:\n",
        "            max_count = count\n",
        "            max_index = col\n",
        "\n",
        "    return max_index\n",
        "\n",
        "\n",
        "# Helper function that returns the number of nonzero elements in\n",
        "# mat in column col.\n",
        "def get_count(mat, col):\n",
        "    num_row = len(mat)\n",
        "    count = 0\n",
        "    for row in range(num_row):\n",
        "        count += (mat[row][col] == 0)\n",
        "    return count\n",
        "\n",
        "\n",
        "if __name__ == '__main__':\n",
        "    # Expected answer: column index 2\n",
        "    mat = [[1, 0, 0, 0],\n",
        "           [0, 1, 1, 0],\n",
        "           [1, 0, 0, 0],\n",
        "           [0, 1, 1, 1],\n",
        "           [0, 0, 1, 0]]\n",
        "    assert biggest_col(mat) == 2"
      ],
      "metadata": {
        "id": "8U27Da-nTqJb",
        "outputId": "6d3905de-27fe-4f6f-c48b-2a42bb1dbeb8",
        "colab": {
          "base_uri": "https://localhost:8080/",
          "height": 305
        }
      },
      "execution_count": null,
      "outputs": [
        {
          "output_type": "error",
          "ename": "TypeError",
          "evalue": "list indices must be integers or slices, not tuple",
          "traceback": [
            "\u001b[0;31m---------------------------------------------------------------------------\u001b[0m",
            "\u001b[0;31mTypeError\u001b[0m                                 Traceback (most recent call last)",
            "\u001b[0;32m<ipython-input-2-16b63f00cb13>\u001b[0m in \u001b[0;36m<cell line: 0>\u001b[0;34m()\u001b[0m\n\u001b[1;32m     40\u001b[0m            \u001b[0;34m[\u001b[0m\u001b[0;36m0\u001b[0m\u001b[0;34m,\u001b[0m \u001b[0;36m1\u001b[0m\u001b[0;34m,\u001b[0m \u001b[0;36m1\u001b[0m\u001b[0;34m,\u001b[0m \u001b[0;36m1\u001b[0m\u001b[0;34m]\u001b[0m\u001b[0;34m,\u001b[0m\u001b[0;34m\u001b[0m\u001b[0;34m\u001b[0m\u001b[0m\n\u001b[1;32m     41\u001b[0m            [0, 0, 1, 0]]\n\u001b[0;32m---> 42\u001b[0;31m     \u001b[0;32massert\u001b[0m \u001b[0mbiggest_col\u001b[0m\u001b[0;34m(\u001b[0m\u001b[0mmat\u001b[0m\u001b[0;34m)\u001b[0m \u001b[0;34m==\u001b[0m \u001b[0;36m2\u001b[0m\u001b[0;34m\u001b[0m\u001b[0;34m\u001b[0m\u001b[0m\n\u001b[0m",
            "\u001b[0;32m<ipython-input-2-16b63f00cb13>\u001b[0m in \u001b[0;36mbiggest_col\u001b[0;34m(mat)\u001b[0m\n\u001b[1;32m     14\u001b[0m     \u001b[0;32mfor\u001b[0m \u001b[0mcol\u001b[0m \u001b[0;32min\u001b[0m \u001b[0mrange\u001b[0m\u001b[0;34m(\u001b[0m\u001b[0mnum_col\u001b[0m\u001b[0;34m)\u001b[0m\u001b[0;34m:\u001b[0m\u001b[0;34m\u001b[0m\u001b[0;34m\u001b[0m\u001b[0m\n\u001b[1;32m     15\u001b[0m         \u001b[0;31m# counts the number of nonzero values\u001b[0m\u001b[0;34m\u001b[0m\u001b[0;34m\u001b[0m\u001b[0m\n\u001b[0;32m---> 16\u001b[0;31m         \u001b[0mcount\u001b[0m \u001b[0;34m=\u001b[0m \u001b[0mnp\u001b[0m\u001b[0;34m.\u001b[0m\u001b[0mcount_nonzero\u001b[0m\u001b[0;34m(\u001b[0m\u001b[0mmat\u001b[0m\u001b[0;34m[\u001b[0m\u001b[0;34m:\u001b[0m\u001b[0;34m,\u001b[0m \u001b[0mcol\u001b[0m\u001b[0;34m]\u001b[0m\u001b[0;34m)\u001b[0m\u001b[0;34m\u001b[0m\u001b[0;34m\u001b[0m\u001b[0m\n\u001b[0m\u001b[1;32m     17\u001b[0m         \u001b[0;31m# change max if needed\u001b[0m\u001b[0;34m\u001b[0m\u001b[0;34m\u001b[0m\u001b[0m\n\u001b[1;32m     18\u001b[0m         \u001b[0;32mif\u001b[0m \u001b[0mcount\u001b[0m \u001b[0;34m>=\u001b[0m \u001b[0mmax_count\u001b[0m\u001b[0;34m:\u001b[0m\u001b[0;34m\u001b[0m\u001b[0;34m\u001b[0m\u001b[0m\n",
            "\u001b[0;31mTypeError\u001b[0m: list indices must be integers or slices, not tuple"
          ]
        }
      ]
    },
    {
      "cell_type": "code",
      "source": [
        "# Fixed code\n",
        "\n",
        "import numpy as np\n",
        "\n",
        "# biggest_col takes a binary 2D array and returns the index of the\n",
        "# column with the most non-zero values. In case of a tie, return\n",
        "# the smallest index.\n",
        "def biggest_col(mat):\n",
        "    num_col = len(mat[0])\n",
        "    max_count = -1\n",
        "    max_index = -1\n",
        "\n",
        "    # iterate over the columns of the matrix\n",
        "    for col in range(num_col):\n",
        "        # counts the number of nonzero values\n",
        "        count = get_count(mat, col)\n",
        "        # change max if needed\n",
        "        if count > max_count:\n",
        "            max_count = count\n",
        "            max_index = col\n",
        "\n",
        "    return max_index\n",
        "\n",
        "\n",
        "# Helper function that returns the number of nonzero elements in\n",
        "# mat in column col.\n",
        "def get_count(mat, col):\n",
        "    num_row = len(mat)\n",
        "    count = 0\n",
        "    for row in range(num_row):\n",
        "        count += (mat[row][col] != 0)\n",
        "    return count\n",
        "\n",
        "if __name__ == '__main__':\n",
        "  # Expected answer: column index 2\n",
        "  mat = [\n",
        "      [1, 0, 0, 1],\n",
        "      [0, 1, 1, 1],\n",
        "      [1, 0, 0, 0],\n",
        "      [0, 1, 1, 1],\n",
        "      [0, 0, 1, 0]\n",
        "  ]\n",
        "  assert biggest_col(mat) == 2"
      ],
      "metadata": {
        "id": "khz6QsXfiSka"
      },
      "execution_count": null,
      "outputs": []
    }
  ]
}